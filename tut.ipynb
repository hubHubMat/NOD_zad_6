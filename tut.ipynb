{
 "cells": [
  {
   "cell_type": "markdown",
   "id": "5582411b-1193-45c0-9dc5-ffdfa1489420",
   "metadata": {},
   "source": [
    "# Ćwiczenie laboratoryjne: Analiza danych z wykorzystaniem narzędzi do modelowania regresji"
   ]
  },
  {
   "cell_type": "code",
   "execution_count": 2,
   "id": "11f70af1-b40b-4d53-a784-773f1e3acf97",
   "metadata": {},
   "outputs": [
    {
     "name": "stdout",
     "output_type": "stream",
     "text": [
      "R^2: 0.9123881128593384\n"
     ]
    }
   ],
   "source": [
    "from sklearn.datasets import load_iris\n",
    "from sklearn.linear_model import LinearRegression, Ridge, Lasso\n",
    "from sklearn.model_selection import train_test_split\n",
    "from sklearn.metrics import mean_squared_error, r2_score\n",
    "\n",
    "data = load_iris()\n",
    "X, y = data.data, data.target\n",
    "\n",
    "X_train, X_test, y_train, y_test = train_test_split(X, y, test_size=0.2)\n",
    "\n",
    "lr = LinearRegression()\n",
    "lr.fit(X_train, y_train)\n",
    "y_pred_lr = lr.predict(X_test)\n",
    "print(\"R^2:\", r2_score(y_test, y_pred_lr))"
   ]
  },
  {
   "cell_type": "code",
   "execution_count": 8,
   "id": "0cc00059-6a24-40bc-9685-d2d0a441234a",
   "metadata": {},
   "outputs": [
    {
     "name": "stdout",
     "output_type": "stream",
     "text": [
      "Ważność cech: [0.11346491 0.03184254 0.25936799 0.53764103]\n"
     ]
    }
   ],
   "source": [
    "from sklearn.linear_model import Ridge\n",
    "data = load_iris()\n",
    "X, y = data.data, data.target\n",
    "ridge = Ridge(alpha=1.0)\n",
    "ridge.fit(X, y)\n",
    "\n",
    "feature_importance = abs(ridge.coef_)\n",
    "print(\"Ważność cech:\", feature_importance)"
   ]
  },
  {
   "cell_type": "code",
   "execution_count": 10,
   "id": "2cc773a9-1523-4313-a29c-59d88e2123a9",
   "metadata": {},
   "outputs": [
    {
     "data": {
      "image/png": "[encoded data removed]",
      "text/plain": [
       "<Figure size 640x480 with 1 Axes>"
      ]
     },
     "metadata": {},
     "output_type": "display_data"
    },
    {
     "name": "stdout",
     "output_type": "stream",
     "text": [
      "Statystyka Shapiro-Wilka: 0.9894937968102302 P-wartość: 0.32442510488341564\n"
     ]
    }
   ],
   "source": [
    "from scipy.stats import shapiro\n",
    "import matplotlib.pyplot as plt\n",
    "import numpy as np\n",
    "\n",
    "# Oblicz reszty\n",
    "residuals = y - ridge.predict(X)\n",
    "\n",
    "# Histogram reszt\n",
    "plt.hist(residuals, bins=20)\n",
    "plt.title(\"Histogram reszt\")\n",
    "plt.show()\n",
    "\n",
    "# Test Shapiro-Wilka\n",
    "stat, p = shapiro(residuals)\n",
    "print(\"Statystyka Shapiro-Wilka:\", stat, \"P-wartość:\", p)"
   ]
  },
  {
   "cell_type": "code",
   "execution_count": 12,
   "id": "555d75e4-f09f-48db-9d19-79a6feafbeae",
   "metadata": {},
   "outputs": [
    {
     "name": "stdout",
     "output_type": "stream",
     "text": [
      "Statystyka Durbin-Watsona: 1.0366570883366133\n"
     ]
    }
   ],
   "source": [
    "from statsmodels.stats.stattools import durbin_watson\n",
    "\n",
    "dw_stat = durbin_watson(residuals)\n",
    "print(\"Statystyka Durbin-Watsona:\", dw_stat)"
   ]
  },
  {
   "cell_type": "code",
   "execution_count": 2,
   "id": "ebfe9925-ca16-4676-9c9e-0029bf574654",
   "metadata": {},
   "outputs": [
    {
     "ename": "ModuleNotFoundError",
     "evalue": "No module named 'tensorflow'",
     "output_type": "error",
     "traceback": [
      "\u001b[1;31m---------------------------------------------------------------------------\u001b[0m",
      "\u001b[1;31mModuleNotFoundError\u001b[0m                       Traceback (most recent call last)",
      "Cell \u001b[1;32mIn[2], line 1\u001b[0m\n\u001b[1;32m----> 1\u001b[0m \u001b[38;5;28;01mimport\u001b[39;00m \u001b[38;5;21;01mtensorflow\u001b[39;00m \u001b[38;5;28;01mas\u001b[39;00m \u001b[38;5;21;01mtf\u001b[39;00m\n\u001b[0;32m      2\u001b[0m \u001b[38;5;28;01mfrom\u001b[39;00m \u001b[38;5;21;01mtensorflow\u001b[39;00m\u001b[38;5;21;01m.\u001b[39;00m\u001b[38;5;21;01mkeras\u001b[39;00m\u001b[38;5;21;01m.\u001b[39;00m\u001b[38;5;21;01mmodels\u001b[39;00m \u001b[38;5;28;01mimport\u001b[39;00m Sequential\n\u001b[0;32m      3\u001b[0m \u001b[38;5;28;01mfrom\u001b[39;00m \u001b[38;5;21;01mtensorflow\u001b[39;00m\u001b[38;5;21;01m.\u001b[39;00m\u001b[38;5;21;01mkeras\u001b[39;00m\u001b[38;5;21;01m.\u001b[39;00m\u001b[38;5;21;01mlayers\u001b[39;00m \u001b[38;5;28;01mimport\u001b[39;00m Dense\n",
      "\u001b[1;31mModuleNotFoundError\u001b[0m: No module named 'tensorflow'"
     ]
    }
   ],
   "source": [
    "import tensorflow as tf\n",
    "from tensorflow.keras.models import Sequential\n",
    "from tensorflow.keras.layers import Dense\n",
    "from sklearn.datasets import make_regression\n",
    "from sklearn.model_selection import train_test_split\n",
    "from sklearn.preprocessing import StandardScaler\n",
    "\n",
    "# Tworzenie sztucznego zbioru danych regresji\n",
    "X, y = make_regression(n_samples=1000, n_features=10, noise=0.1)\n",
    "y = y.reshape(-1, 1)\n",
    "\n",
    "# Normalizacja danych\n",
    "scaler_X = StandardScaler()\n",
    "scaler_y = StandardScaler()\n",
    "X = scaler_X.fit_transform(X)\n",
    "y = scaler_y.fit_transform(y)\n",
    "\n",
    "# Podział na zbiory treningowy i testowy\n",
    "X_train, X_test, y_train, y_test = train_test_split(X, y, test_size=0.2)\n",
    "\n",
    "# Budowa sieci neuronowej\n",
    "model = Sequential([\n",
    "    Dense(64, activation='relu', input_shape=(X.shape[1],)),\n",
    "    Dense(32, activation='relu'),\n",
    "    Dense(1)  # Warstwa wyjściowa dla regresji\n",
    "])\n",
    "\n",
    "# Kompilacja modelu\n",
    "model.compile(optimizer='adam', loss='mse', metrics=['mae'])\n",
    "\n",
    "# Trenowanie modelu\n",
    "history = model.fit(X_train, y_train, validation_split=0.2, epochs=100, batch_size=32)\n",
    "\n",
    "# Ocena modelu\n",
    "loss, mae = model.evaluate(X_test, y_test)\n",
    "print(\"Średni błąd absolutny (MAE):\", mae)\n",
    "\n",
    "# Przewidywanie\n",
    "y_pred = scaler_y.inverse_transform(model.predict(X_test))"
   ]
  },
  {
   "cell_type": "markdown",
   "id": "c2ffcf84-b83f-4a71-b6f1-00d1d1dc22e7",
   "metadata": {},
   "source": [
    "## Kod Python do wizualizacji sieci neuronowej:"
   ]
  },
  {
   "cell_type": "code",
   "execution_count": 18,
   "id": "7db9b26a-121d-4678-97fc-112f1a38130c",
   "metadata": {},
   "outputs": [
    {
     "ename": "ModuleNotFoundError",
     "evalue": "No module named 'tensorflow'",
     "output_type": "error",
     "traceback": [
      "\u001b[1;31m---------------------------------------------------------------------------\u001b[0m",
      "\u001b[1;31mModuleNotFoundError\u001b[0m                       Traceback (most recent call last)",
      "Cell \u001b[1;32mIn[18], line 1\u001b[0m\n\u001b[1;32m----> 1\u001b[0m \u001b[38;5;28;01mimport\u001b[39;00m \u001b[38;5;21;01mtensorflow\u001b[39;00m \u001b[38;5;28;01mas\u001b[39;00m \u001b[38;5;21;01mtf\u001b[39;00m\n\u001b[0;32m      2\u001b[0m \u001b[38;5;28;01mfrom\u001b[39;00m \u001b[38;5;21;01mtensorflow\u001b[39;00m\u001b[38;5;21;01m.\u001b[39;00m\u001b[38;5;21;01mkeras\u001b[39;00m\u001b[38;5;21;01m.\u001b[39;00m\u001b[38;5;21;01mmodels\u001b[39;00m \u001b[38;5;28;01mimport\u001b[39;00m Sequential\n\u001b[0;32m      3\u001b[0m \u001b[38;5;28;01mfrom\u001b[39;00m \u001b[38;5;21;01mtensorflow\u001b[39;00m\u001b[38;5;21;01m.\u001b[39;00m\u001b[38;5;21;01mkeras\u001b[39;00m\u001b[38;5;21;01m.\u001b[39;00m\u001b[38;5;21;01mlayers\u001b[39;00m \u001b[38;5;28;01mimport\u001b[39;00m Dense\n",
      "\u001b[1;31mModuleNotFoundError\u001b[0m: No module named 'tensorflow'"
     ]
    }
   ],
   "source": [
    "import tensorflow as tf\n",
    "from tensorflow.keras.models import Sequential\n",
    "from tensorflow.keras.layers import Dense\n",
    "from tensorflow.keras.utils import plot_model\n",
    "import matplotlib.pyplot as plt\n",
    "\n",
    "# Tworzenie przykładowej sieci neuronowej\n",
    "model = Sequential([\n",
    "    Dense(64, activation='relu', input_shape=(10,), name='hidden_layer_1'),\n",
    "    Dense(32, activation='relu', name='hidden_layer_2'),\n",
    "    Dense(1, name='output_layer')  # Warstwa wyjściowa do regresji\n",
    "])\n",
    "\n",
    "# Kompilacja modelu\n",
    "model.compile(optimizer='adam', loss='mse', metrics=['mae'])\n",
    "\n",
    "# Wyświetlenie podsumowania modelu\n",
    "print(\"Podsumowanie modelu:\")\n",
    "model.summary()\n",
    "\n",
    "# Wizualizacja modelu za pomocą plot_model\n",
    "plot_file = \"model_architecture.png\"\n",
    "plot_model(model, to_file=plot_file, show_shapes=True, show_layer_names=True)\n",
    "\n",
    "# Wyświetlanie zapisanego obrazu\n",
    "img = plt.imread(plot_file)\n",
    "plt.figure(figsize=(10, 10))\n",
    "plt.imshow(img)\n",
    "plt.axis('off')\n",
    "plt.title(\"Architektura sieci neuronowej\")\n",
    "plt.show()\n"
   ]
  },
  {
   "cell_type": "code",
   "execution_count": null,
   "id": "87aba334-d415-4cee-9019-142f5140bbf0",
   "metadata": {},
   "outputs": [],
   "source": []
  }
 ],
 "metadata": {
  "kernelspec": {
   "display_name": "Python 3 (ipykernel)",
   "language": "python",
   "name": "python3"
  },
  "language_info": {
   "codemirror_mode": {
    "name": "ipython",
    "version": 3
   },
   "file_extension": ".py",
   "mimetype": "text/x-python",
   "name": "python",
   "nbconvert_exporter": "python",
   "pygments_lexer": "ipython3",
   "version": "3.12.7"
  }
 },
 "nbformat": 4,
 "nbformat_minor": 5
}
